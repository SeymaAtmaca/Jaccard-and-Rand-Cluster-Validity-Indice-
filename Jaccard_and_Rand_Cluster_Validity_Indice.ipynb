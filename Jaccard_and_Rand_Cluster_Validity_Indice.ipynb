{
  "nbformat": 4,
  "nbformat_minor": 0,
  "metadata": {
    "colab": {
      "name": "Jaccard and Rand Cluster Validity Indice.ipynb",
      "provenance": []
    },
    "kernelspec": {
      "name": "python3",
      "display_name": "Python 3"
    },
    "language_info": {
      "name": "python"
    }
  },
  "cells": [
    {
      "cell_type": "markdown",
      "metadata": {
        "id": "urqGJhvfPlCz"
      },
      "source": [
        "#Verilerin Cekilmesi ve Duzenlenmesi"
      ]
    },
    {
      "cell_type": "code",
      "metadata": {
        "id": "0wE67wdWOpb8"
      },
      "source": [
        "#DOSYA DRİVE PAYLASIM LINKI --> https://colab.research.google.com/drive/1s2iGn_UatPz2Fogk4fdK1Va5FWDTLAdq?usp=sharing\n",
        "\n",
        "\n",
        "from sklearn.datasets import load_iris\n",
        "from sklearn.cluster import AgglomerativeClustering, KMeans\n",
        "from sklearn.metrics import pairwise_distances\n",
        "import pandas as pd\n",
        "import numpy as np"
      ],
      "execution_count": null,
      "outputs": []
    },
    {
      "cell_type": "code",
      "metadata": {
        "id": "AHvHKDgqO3Ip"
      },
      "source": [
        "from google.colab import files\n",
        "uploaded = files.upload()  #kumeleme_sonucu adli dosya bu kisma okutuluyor"
      ],
      "execution_count": null,
      "outputs": []
    },
    {
      "cell_type": "code",
      "metadata": {
        "id": "l5of-faOO3LU"
      },
      "source": [
        "uploaded_2 =files.upload()   #Kume sayisina gore adli dosya buraya okutuluyor"
      ],
      "execution_count": null,
      "outputs": []
    },
    {
      "cell_type": "code",
      "metadata": {
        "id": "nJxKfwhjO3Nj"
      },
      "source": [
        "import io \n",
        "sinif = pd.read_excel(io.BytesIO(uploaded['kumeleme_sonucu.xls']))\n",
        "sinif"
      ],
      "execution_count": null,
      "outputs": []
    },
    {
      "cell_type": "code",
      "metadata": {
        "id": "7qAC6WmpO3QC"
      },
      "source": [
        "kume = pd.read_excel(io.BytesIO(uploaded_2['Kume sayisina gore.xlsx']))\n",
        "kume"
      ],
      "execution_count": null,
      "outputs": []
    },
    {
      "cell_type": "code",
      "metadata": {
        "id": "lrUTDJm7O3Sl"
      },
      "source": [
        "#Bu kısımda sinif etiketleri ve kumeleme sonuclari birlestiriliyor.\n",
        "\n",
        "concat = pd.merge(sinif,kume,on=\"OrnekNo\")"
      ],
      "execution_count": null,
      "outputs": []
    },
    {
      "cell_type": "markdown",
      "metadata": {
        "id": "0i4w-3UZP_Gu"
      },
      "source": [
        "#Iki Kume icin Hesaplamalar"
      ]
    },
    {
      "cell_type": "code",
      "metadata": {
        "id": "IX5Tere1O3VK"
      },
      "source": [
        "#a1 a2 .. vb degerler kumeleri , adlandırmada kullanılan _1, _2 ,_3 ise siniflari temsil etmektedir.\n",
        "\n",
        "# A Degeri Hesaplanmasi\n",
        "\n",
        "iki_a_count=0\n",
        "\n",
        "iki_a1_1 = len(concat[['SinifEtiketi','iki']][concat.SinifEtiketi == 1][concat.iki == 1]) #Birinci kumede bulunan birinci sinif elemani sayisi\n",
        "iki_a1_2= len(concat[['SinifEtiketi','iki']][concat.SinifEtiketi == 2][concat.iki == 1])  #Birinci kumedeki ikinci sinif sayisi\n",
        "iki_a1_3= len(concat[['SinifEtiketi','iki']][concat.SinifEtiketi == 3][concat.iki == 1])\n",
        "\n",
        "\n",
        "iki_a2_1= len(concat[['SinifEtiketi','iki']][concat.SinifEtiketi == 1][concat.iki == 2]) #İkinci kumede bulunan birinci sinif eleman sayisi\n",
        "iki_a2_2= len(concat[['SinifEtiketi','iki']][concat.SinifEtiketi == 2][concat.iki == 2])\n",
        "iki_a2_3= len(concat[['SinifEtiketi','iki']][concat.SinifEtiketi == 3][concat.iki == 2])\n",
        "\n",
        "iki_a_count += (iki_a1_1 * (iki_a1_1 - 1)) + (iki_a1_2 * (iki_a1_2 - 1)) + (iki_a1_3 * (iki_a1_3 - 1)) \n",
        "iki_a_count += (iki_a2_1 * (iki_a2_1 - 1)) + (iki_a2_2 * (iki_a2_2 - 1)) + (iki_a2_3 * (iki_a2_3 - 1)) \n",
        "\n",
        "\n",
        "# B Degeri Hesaplanmasi\n",
        "iki_b_count = (iki_a1_1 * iki_a2_1) + (iki_a1_2 * iki_a2_2) +(iki_a1_3 * iki_a2_3)\n",
        "\n",
        "# C Degeri Hesaplanmasi\n",
        "\n",
        "\n",
        "\n",
        "\n",
        "iki_c_count =  (iki_a1_1 * iki_a1_2) + (iki_a1_1 * iki_a1_2) + (iki_a1_2 * iki_a1_3) \n",
        "iki_c_count += (iki_a2_1 * iki_a2_2) + (iki_a2_1 * iki_a2_2) + (iki_a2_2 * iki_a2_3) \n",
        "\n",
        "# D Degeri Hesaplanmasi\n",
        "iki_d_count = (iki_a1_1 * iki_a2_2) + (iki_a1_1 * iki_a2_3) + (iki_a1_2 * iki_a2_2) + (iki_a1_2 * iki_a2_3) + (iki_a1_3 * iki_a2_1) + (iki_a1_3 * iki_a2_3)\n",
        "\n",
        "\n",
        "# J ve R degerlerinin hesaplanmasi\n",
        "\n",
        "iki_J=iki_a_count / (iki_a_count + iki_b_count + iki_c_count)\n",
        "iki_R = (iki_a_count + iki_d_count) / (iki_d_count + iki_c_count + iki_a_count + iki_b_count)"
      ],
      "execution_count": null,
      "outputs": []
    },
    {
      "cell_type": "code",
      "metadata": {
        "id": "l_dHsTolO3Xr"
      },
      "source": [
        "print(\"J ve R degeri: \",iki_J,iki_R)"
      ],
      "execution_count": null,
      "outputs": []
    },
    {
      "cell_type": "code",
      "metadata": {
        "id": "HyfBFXgXPUCN"
      },
      "source": [
        ""
      ],
      "execution_count": null,
      "outputs": []
    },
    {
      "cell_type": "markdown",
      "metadata": {
        "id": "jDcXkUyNQGLG"
      },
      "source": [
        "#Uc Kume Icin Hesaplamalar"
      ]
    },
    {
      "cell_type": "code",
      "metadata": {
        "id": "57rpnPmPPUEl"
      },
      "source": [
        "# A Degeri Hesaplanmasi\n",
        "\n",
        "uc_a1_1 = len(concat[['SinifEtiketi','uc']][concat.SinifEtiketi == 1][concat.uc == 1]) #Birinci kumede bulunan birinci sinif elemani sayisi\n",
        "uc_a1_2 = len(concat[['SinifEtiketi','uc']][concat.SinifEtiketi == 2][concat.uc == 1]) #Birinci kumede bulunan ikinci sinif elemani sayisi\n",
        "uc_a1_3 = len(concat[['SinifEtiketi','uc']][concat.SinifEtiketi == 3][concat.uc == 1])\n",
        "\n",
        "uc_a2_1 = len(concat[['SinifEtiketi','uc']][concat.SinifEtiketi == 1][concat.uc == 2]) #ikinci kumede bulunan birinci sinif eleman sayisi\n",
        "uc_a2_2 = len(concat[['SinifEtiketi','uc']][concat.SinifEtiketi == 2][concat.uc == 2])\n",
        "uc_a2_3 = len(concat[['SinifEtiketi','uc']][concat.SinifEtiketi == 3][concat.uc == 2])\n",
        "\n",
        "uc_a3_1 = len(concat[['SinifEtiketi','uc']][concat.SinifEtiketi == 1][concat.uc == 3])\n",
        "uc_a3_2 = len(concat[['SinifEtiketi','uc']][concat.SinifEtiketi == 2][concat.uc == 3])\n",
        "uc_a3_3 = len(concat[['SinifEtiketi','uc']][concat.SinifEtiketi == 3][concat.uc == 3])\n",
        "\n",
        "\n",
        "uc_a_count = (uc_a1_1 * (uc_a1_1 - 1)) + (uc_a1_2 * (uc_a1_2 - 1)) + (uc_a1_3 * (uc_a1_3 - 1))         \n",
        "uc_a_count += (uc_a2_1 * (uc_a2_1 - 1)) + (uc_a2_2 * (uc_a2_2 - 1)) + (uc_a2_3 * (uc_a2_3 - 1)) \n",
        "uc_a_count += (uc_a3_1 * (uc_a3_1 - 1)) + (uc_a3_2 * (uc_a3_2 - 1)) + (uc_a3_3 * (uc_a3_3 - 1)) \n",
        "\n",
        "\n",
        "# B Degeri Hesaplanmasi\n",
        "uc_b_count = ((uc_a1_1 * uc_a2_1 ) + (uc_a1_1 * uc_a3_1) + (uc_a1_2 * uc_a2_2 ) + (uc_a1_2 * uc_a3_2) +(uc_a1_3 * uc_a2_3 ) + (uc_a1_3 * uc_a3_3) + (uc_a2_1 * uc_a3_1) +(uc_a2_2 * uc_a3_2) +  (uc_a2_3 * uc_a3_3) ) \n",
        "\n",
        "\n",
        "# C Degeri Hesaplanmasi\n",
        "uc_c_count =  ((uc_a1_1 * uc_a1_2) + (uc_a1_2 * uc_a1_1) + (uc_a1_3 * uc_a1_3)) \n",
        "uc_c_count += ((uc_a2_1 * uc_a2_2) + (uc_a2_2 * uc_a2_1) + (uc_a2_3 * uc_a2_3) )\n",
        "uc_c_count += ((uc_a3_1 * uc_a3_2) + (uc_a3_2 * uc_a3_1) + (uc_a3_3 * uc_a3_3)) \n",
        "\n",
        "# D Degeri Hesaplanmasi\n",
        "uc_d_count =  (uc_a1_1 * uc_a2_2) + (uc_a1_1 * uc_a2_3) + (uc_a1_1 * uc_a3_2) + (uc_a1_1 * uc_a3_3)\n",
        "uc_d_count += (uc_a1_2*uc_a2_1) + (uc_a1_2 * uc_a2_3) + (uc_a1_2 * uc_a3_1 ) + ( uc_a1_2 * uc_a3_3)\n",
        "uc_d_count += (uc_a1_3 * uc_a2_2) + (uc_a1_3 * uc_a2_1) + (uc_a1_3 * uc_a3_1) + (uc_a1_3 * uc_a1_2)\n",
        "\n",
        "\n",
        "\n",
        "# J ve R degerlerinin hesaplanmasi\n",
        "\n",
        "uc_J = uc_a_count / (uc_a_count + uc_b_count + uc_c_count)\n",
        "uc_R = (uc_a_count + uc_d_count) / (uc_d_count + uc_c_count + uc_a_count + uc_b_count)\n",
        "\n"
      ],
      "execution_count": null,
      "outputs": []
    },
    {
      "cell_type": "code",
      "metadata": {
        "id": "t--iY9lZPUG7"
      },
      "source": [
        "print(\"J ve R degeri: \",uc_J,uc_R)"
      ],
      "execution_count": null,
      "outputs": []
    },
    {
      "cell_type": "code",
      "metadata": {
        "id": "5M8gIYQKPZ6T"
      },
      "source": [
        ""
      ],
      "execution_count": null,
      "outputs": []
    },
    {
      "cell_type": "markdown",
      "metadata": {
        "id": "vrSy8dJSQJCu"
      },
      "source": [
        "#Dort Kume Icin Hesaplamalar"
      ]
    },
    {
      "cell_type": "code",
      "metadata": {
        "id": "peDKCDl1PZ8y"
      },
      "source": [
        "# A Degeri Hesaplanmasi\n",
        "\n",
        "dort_a1_1 = len(concat[['SinifEtiketi','dort']][concat.SinifEtiketi == 1][concat.dort == 1]) #Birinci kumede bulunan birinci sinif elemani sayisi\n",
        "dort_a1_2 = len(concat[['SinifEtiketi','dort']][concat.SinifEtiketi == 2][concat.dort == 1]) #Birinci kumede bulunan 2. sinif larin sayisi\n",
        "dort_a1_3 = len(concat[['SinifEtiketi','dort']][concat.SinifEtiketi == 3][concat.dort == 1])\n",
        "\n",
        "dort_a2_1 = len(concat[['SinifEtiketi','dort']][concat.SinifEtiketi == 1][concat.dort == 2]) #İkinci kumede bulunan birinci siniflarin sayisi\n",
        "dort_a2_2 = len(concat[['SinifEtiketi','dort']][concat.SinifEtiketi == 2][concat.dort == 2])\n",
        "dort_a2_3 = len(concat[['SinifEtiketi','dort']][concat.SinifEtiketi == 3][concat.dort == 2])\n",
        "\n",
        "dort_a3_1 = len(concat[['SinifEtiketi','dort']][concat.SinifEtiketi == 1][concat.dort == 3])\n",
        "dort_a3_2 = len(concat[['SinifEtiketi','dort']][concat.SinifEtiketi == 2][concat.dort == 3])\n",
        "dort_a3_3 = len(concat[['SinifEtiketi','dort']][concat.SinifEtiketi == 3][concat.dort == 3])\n",
        "\n",
        "dort_a4_1 = len(concat[['SinifEtiketi','dort']][concat.SinifEtiketi == 1][concat.dort == 4])\n",
        "dort_a4_2 = len(concat[['SinifEtiketi','dort']][concat.SinifEtiketi == 2][concat.dort == 4])\n",
        "dort_a4_3 = len(concat[['SinifEtiketi','dort']][concat.SinifEtiketi == 3][concat.dort == 4])\n",
        "\n",
        "dort_a_count =( dort_a1_1 - 1 ) + ( dort_a1_2 - 1 ) + ( dort_a1_3 - 1 ) + ( dort_a2_1 - 1 ) + ( dort_a2_2 - 1 ) + ( dort_a2_3 - 1 ) + ( dort_a3_1 - 1 ) + ( dort_a3_2 - 1 ) + ( dort_a3_3 - 1 ) + ( dort_a4_1 - 1 ) + ( dort_a4_2 - 1 ) + ( dort_a4_3 - 1 ) \n",
        "\n",
        "# B Degeri Hesaplanmasi\n",
        "\n",
        "dort_b_count = ((dort_a1_1 * dort_a2_1 ) + (dort_a1_1 * dort_a3_1) + (dort_a1_1 * dort_a4_1) + (dort_a2_1 * dort_a3_1) + (dort_a2_1 * dort_a4_1) + (dort_a4_1 * dort_a3_1)  ) \n",
        "dort_b_count += ((dort_a1_2 * dort_a2_2 ) + (dort_a1_2 * dort_a3_2) + (dort_a1_2 * dort_a4_2) + (dort_a2_2 * dort_a3_2) + (dort_a2_2 * dort_a4_2) + (dort_a4_2 * dort_a3_2)  ) \n",
        "dort_b_count += ((dort_a1_3 * dort_a2_3 ) + (dort_a1_3 * dort_a3_3) + (dort_a1_3 * dort_a4_3) + (dort_a2_3 * dort_a3_3) + (dort_a2_3 * dort_a4_3) + (dort_a4_3 * dort_a3_3)  ) \n",
        "\n",
        "\n",
        "# C Degeri Hesaplanmasi\n",
        "\n",
        "dort_c_count =  ((dort_a1_1 * dort_a1_2) + (dort_a1_1 * dort_a1_3) + (dort_a1_3 * dort_a1_3))\n",
        "dort_c_count += ((dort_a2_1 * dort_a2_2) + (dort_a2_1 * dort_a2_3) + (dort_a2_3 * dort_a2_3) )\n",
        "dort_c_count += ((dort_a3_1 * dort_a3_2) + (dort_a3_1 * dort_a3_3) + (dort_a3_3 * dort_a3_3)) \n",
        "dort_c_count += ((dort_a4_1 * dort_a4_2) + (dort_a4_1 * dort_a4_3) + (dort_a4_3 * dort_a4_3)) \n",
        "\n",
        "\n",
        "# D Degeri Hesaplanmasi\n",
        "\n",
        "dort_d_count = (dort_a1_1 * dort_a2_2) + (dort_a1_1 * dort_a2_3) + (dort_a1_1 * dort_a3_2) + (dort_a1_1 * dort_a3_3) + (dort_a1_1 * dort_a4_2) + (dort_a1_1 * dort_a4_3)\n",
        "dort_d_count += (dort_a1_2 * dort_a2_1) + (dort_a1_1 * dort_a2_3) + (dort_a1_2 * dort_a3_1) + (dort_a1_2 * dort_a3_3) + (dort_a1_2 * dort_a4_1) + (dort_a1_2 * dort_a4_3)\n",
        "dort_d_count += (dort_a1_3 * dort_a2_2) + (dort_a1_1 * dort_a2_1) + (dort_a1_3 * dort_a3_2) + (dort_a1_3 * dort_a3_1) + (dort_a1_3 * dort_a4_2) + (dort_a1_3 * dort_a4_1)\n",
        "\n",
        "\n",
        "\n",
        "# J ve R degerlerinin hesaplanmasi\n",
        "\n",
        "dort_J = dort_a_count / (dort_a_count + dort_b_count + dort_c_count)\n",
        "dort_R = (dort_a_count + dort_d_count) / (dort_d_count + dort_c_count + dort_a_count + dort_b_count)"
      ],
      "execution_count": null,
      "outputs": []
    },
    {
      "cell_type": "code",
      "metadata": {
        "id": "9wn5g8K8PZ_J"
      },
      "source": [
        "\n",
        "print(\"J ve R degeri: \",dort_J,dort_R)"
      ],
      "execution_count": null,
      "outputs": []
    },
    {
      "cell_type": "code",
      "metadata": {
        "id": "LvKbwh-APUJa"
      },
      "source": [
        ""
      ],
      "execution_count": null,
      "outputs": []
    },
    {
      "cell_type": "code",
      "metadata": {
        "id": "HSwWim-_PUL9"
      },
      "source": [
        ""
      ],
      "execution_count": null,
      "outputs": []
    },
    {
      "cell_type": "code",
      "metadata": {
        "id": "CGG7IFGIO3aF"
      },
      "source": [
        ""
      ],
      "execution_count": null,
      "outputs": []
    }
  ]
}